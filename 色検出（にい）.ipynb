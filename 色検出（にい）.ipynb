{
  "nbformat": 4,
  "nbformat_minor": 0,
  "metadata": {
    "colab": {
      "provenance": [],
      "authorship_tag": "ABX9TyO9BDGWrDfRZ2wn6Hw1td3D",
      "include_colab_link": true
    },
    "kernelspec": {
      "name": "python3",
      "display_name": "Python 3"
    },
    "language_info": {
      "name": "python"
    }
  },
  "cells": [
    {
      "cell_type": "markdown",
      "metadata": {
        "id": "view-in-github",
        "colab_type": "text"
      },
      "source": [
        "<a href=\"https://colab.research.google.com/github/NIIDED/ComputerVSComputer/blob/main/%E8%89%B2%E6%A4%9C%E5%87%BA%EF%BC%88%E3%81%AB%E3%81%84%EF%BC%89.ipynb\" target=\"_parent\"><img src=\"https://colab.research.google.com/assets/colab-badge.svg\" alt=\"Open In Colab\"/></a>"
      ]
    },
    {
      "cell_type": "code",
      "source": [
        "import cv2\n",
        "import numpy as np\n",
        "import matplotlib.pyplot as plt\n",
        "from google.colab.patches import cv2_imshow\n",
        "\n",
        "# 画像の読み込み\n",
        "ac = cv2.imread('/content/9410c0_1c694c69c6274aa78fe54bd4a65bc12e_mv2.webp');\n",
        "\n",
        "# HSV形式に変換\n",
        "hsvac = cv2.cvtColor(ac, cv2.COLOR_BGR2HSV)\n",
        "\n",
        "ac_width, ac_height, ac_col = hsvac.shape\n",
        "\n",
        "# H,S,Vそれぞれの下限値と上限値\n",
        "lower_green = np.array([50, 0, 80])\n",
        "upper_green = np.array([90, 255, 255])\n",
        "\n",
        "lower_blue = np.array([90, 30, 130])\n",
        "upper_blue = np.array([105, 255, 255])\n",
        "\n",
        "lower_orange = np.array([10, 100, 100])\n",
        "upper_orange = np.array([40, 255, 255])\n",
        "\n",
        "# 各ピクセルが上限値と下限値の間に入るかどうかで2値化する\n",
        "ac_mask_green = cv2.inRange(hsvac, lower_green, upper_green)\n",
        "ac_mask_blue = cv2.inRange(hsvac, lower_blue, upper_blue)\n",
        "ac_mask_orange = cv2.inRange(hsvac, lower_orange, upper_orange)\n",
        "\n",
        "# マスキング用のデータ（すべて0で初期化）\n",
        "ac_mask_green_img = np.zeros((ac_width, ac_height, 3), dtype=np.uint8)\n",
        "ac_mask_blue_img = np.zeros((ac_width, ac_height, 3), dtype=np.uint8)\n",
        "ac_mask_orange_img = np.zeros((ac_width, ac_height, 3), dtype=np.uint8)\n",
        "\n",
        "# BGRすべてで2値化\n",
        "for i in range(3):\n",
        "    ac_mask_green_img[:, :, i] = ac_mask_green\n",
        "for i in range(3):\n",
        "    ac_mask_blue_img[:, :, i] = ac_mask_blue\n",
        "for i in range(3):\n",
        "    ac_mask_orange_img[:, :, i] = ac_mask_orange\n",
        "\n",
        "\n",
        "# 2値化した画像の表示\n",
        "plt.subplot(221).imshow(cv2.cvtColor(ac_mask_green_img, cv2.COLOR_BGR2RGB));\n",
        "plt.subplot(222).imshow(cv2.cvtColor(ac_mask_blue_img, cv2.COLOR_BGR2RGB));\n",
        "plt.subplot(223).imshow(cv2.cvtColor(ac_mask_orange_img, cv2.COLOR_BGR2RGB));\n"
      ],
      "metadata": {
        "colab": {
          "base_uri": "https://localhost:8080/",
          "height": 269
        },
        "id": "K5yldWpQzJWN",
        "outputId": "2af7c870-29d0-4e16-83cd-96ddbec41326"
      },
      "execution_count": 17,
      "outputs": [
        {
          "output_type": "display_data",
          "data": {
            "text/plain": [
              "<Figure size 432x288 with 3 Axes>"
            ],
            "image/png": "[encoded data removed]"
          },
          "metadata": {
            "needs_background": "light"
          }
        }
      ]
    },
    {
      "cell_type": "code",
      "source": [
        "# im2の画像と2値化した画像でマスキング\n",
        "ac_masked_green = cv2.bitwise_and(ac, ac_mask_green_img)\n",
        "ac_masked_blue = cv2.bitwise_and(ac, ac_mask_blue_img)\n",
        "ac_masked_orange = cv2.bitwise_and(ac, ac_mask_orange_img)\n",
        "\n",
        "# マスキングした画像の表示\n",
        "plt.subplot(221).imshow(cv2.cvtColor(ac_masked_green, cv2.COLOR_BGR2RGB))\n",
        "plt.subplot(222).imshow(cv2.cvtColor(ac_masked_blue, cv2.COLOR_BGR2RGB))\n",
        "plt.subplot(223).imshow(cv2.cvtColor(ac_masked_orange, cv2.COLOR_BGR2RGB))\n",
        "\n"
      ],
      "metadata": {
        "colab": {
          "base_uri": "https://localhost:8080/",
          "height": 286
        },
        "id": "zez6NfL9zLAM",
        "outputId": "95a8b17c-a6fa-4ac5-fa41-aff0e8a4082b"
      },
      "execution_count": 18,
      "outputs": [
        {
          "output_type": "execute_result",
          "data": {
            "text/plain": [
              "<matplotlib.image.AxesImage at 0x7f686a05efa0>"
            ]
          },
          "metadata": {},
          "execution_count": 18
        },
        {
          "output_type": "display_data",
          "data": {
            "text/plain": [
              "<Figure size 432x288 with 3 Axes>"
            ],
            "image/png": "[encoded data removed]"
          },
          "metadata": {
            "needs_background": "light"
          }
        }
      ]
    },
    {
      "cell_type": "code",
      "source": [
        "#色をグレイに\n",
        "ac_masked_green2gray = cv2.cvtColor(ac_masked_green, cv2.COLOR_BGR2GRAY)\n",
        "ac_masked_blue2gray = cv2.cvtColor(ac_masked_blue, cv2.COLOR_BGR2GRAY)\n",
        "ac_masked_orange2gray = cv2.cvtColor(ac_masked_orange, cv2.COLOR_BGR2GRAY)\n",
        "\n",
        "#binary data に\n",
        "ret, ac_masked_green2gray = cv2.threshold(ac_masked_green2gray, 0, 255, cv2.THRESH_BINARY)\n",
        "ret, ac_masked_blue2gray = cv2.threshold(ac_masked_blue2gray, 0, 255, cv2.THRESH_BINARY)\n",
        "ret, ac_masked_orange2gray = cv2.threshold(ac_masked_orange2gray, 0, 255, cv2.THRESH_BINARY)"
      ],
      "metadata": {
        "id": "2U277Z-HzNYr"
      },
      "execution_count": 19,
      "outputs": []
    },
    {
      "cell_type": "code",
      "source": [
        "greenNumber = cv2.countNonZero(ac_masked_green2gray)\n",
        "blueNumber = cv2.countNonZero(ac_masked_blue2gray)\n",
        "orangeNumber = cv2.countNonZero(ac_masked_orange2gray)"
      ],
      "metadata": {
        "id": "h9O7l9blzPAV"
      },
      "execution_count": 20,
      "outputs": []
    },
    {
      "cell_type": "code",
      "source": [
        "#辞書で扱う\n",
        "colorNumber = {\"緑\": greenNumber, \"青\": blueNumber,\"橙\":orangeNumber}\n",
        "colorNumber"
      ],
      "metadata": {
        "colab": {
          "base_uri": "https://localhost:8080/"
        },
        "id": "jezlzLhXzQe_",
        "outputId": "a9c53c11-76c1-4893-d534-847ccfcf593b"
      },
      "execution_count": 21,
      "outputs": [
        {
          "output_type": "execute_result",
          "data": {
            "text/plain": [
              "{'緑': 46238, '青': 1396, '橙': 69869}"
            ]
          },
          "metadata": {},
          "execution_count": 21
        }
      ]
    },
    {
      "cell_type": "code",
      "source": [
        "colorNumber_list = sorted(colorNumber.items(), key = lambda num : num[1]) \n",
        "maxColor =  colorNumber_list.pop()\n",
        "nextMaxColor = colorNumber_list.pop()\n",
        "\n",
        "print(maxColor , nextMaxColor)"
      ],
      "metadata": {
        "colab": {
          "base_uri": "https://localhost:8080/"
        },
        "id": "Qt_wSj7izR4n",
        "outputId": "27c5e230-5d83-439d-976e-fd4f05c0b549"
      },
      "execution_count": 22,
      "outputs": [
        {
          "output_type": "stream",
          "name": "stdout",
          "text": [
            "('橙', 69869) ('緑', 46238)\n"
          ]
        }
      ]
    },
    {
      "cell_type": "code",
      "source": [
        "if nextMaxColor[1] <=  10000 : \n",
        "    nextMaxColor = maxColor\n",
        "\n",
        "print(maxColor , nextMaxColor)"
      ],
      "metadata": {
        "colab": {
          "base_uri": "https://localhost:8080/"
        },
        "id": "WednM5CezTRH",
        "outputId": "3f98adc1-62a4-4e75-fb84-c6eb840ddf98"
      },
      "execution_count": 23,
      "outputs": [
        {
          "output_type": "stream",
          "name": "stdout",
          "text": [
            "('橙', 69869) ('緑', 46238)\n"
          ]
        }
      ]
    }
  ]
}